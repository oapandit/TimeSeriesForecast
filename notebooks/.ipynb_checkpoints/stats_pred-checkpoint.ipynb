{
 "cells": [
  {
   "cell_type": "code",
   "execution_count": 40,
   "id": "0d50e66b-34de-4fd2-9466-f5cda0373a2b",
   "metadata": {},
   "outputs": [],
   "source": [
    "%matplotlib inline\n",
    "\n",
    "import os\n",
    "import matplotlib.pyplot as plt\n",
    "import numpy as np\n",
    "import pandas as pd\n",
    "import statsmodels.api as sm\n",
    "from scipy import stats\n",
    "from statsmodels.tsa.arima.model import ARIMA\n",
    "from statsmodels.graphics.api import qqplot\n",
    "\n",
    "data_root = \"/Users/onkar.pandit/PycharmProjects/dummy/TimeSeriesForecast/data/raw/\"\n",
    "\n",
    "def read_csv(file_path):\n",
    "    df = pd.read_csv(file_path,index_col=False)\n",
    "    return df\n",
    "\n",
    "def get_year_month(df):\n",
    "    df['year'] = pd.DatetimeIndex(df['Date']).year\n",
    "    df['month'] = pd.DatetimeIndex(df['Date']).month\n",
    "    return df"
   ]
  },
  {
   "cell_type": "code",
   "execution_count": 41,
   "id": "93d695a2-677a-4f1f-ab41-e5a81f490062",
   "metadata": {},
   "outputs": [],
   "source": [
    "df = read_csv(os.path.join(data_root,\"sensex.csv\"))\n",
    "df = get_year_month(df)"
   ]
  },
  {
   "cell_type": "code",
   "execution_count": 42,
   "id": "ca3fe5f1-69e6-4b26-bd4c-f85c43e1f9f3",
   "metadata": {},
   "outputs": [
    {
     "data": {
      "text/html": [
       "<div>\n",
       "<style scoped>\n",
       "    .dataframe tbody tr th:only-of-type {\n",
       "        vertical-align: middle;\n",
       "    }\n",
       "\n",
       "    .dataframe tbody tr th {\n",
       "        vertical-align: top;\n",
       "    }\n",
       "\n",
       "    .dataframe thead th {\n",
       "        text-align: right;\n",
       "    }\n",
       "</style>\n",
       "<table border=\"1\" class=\"dataframe\">\n",
       "  <thead>\n",
       "    <tr style=\"text-align: right;\">\n",
       "      <th></th>\n",
       "      <th>Date</th>\n",
       "      <th>Open</th>\n",
       "      <th>High</th>\n",
       "      <th>Low</th>\n",
       "      <th>Close</th>\n",
       "      <th>year</th>\n",
       "      <th>month</th>\n",
       "    </tr>\n",
       "  </thead>\n",
       "  <tbody>\n",
       "    <tr>\n",
       "      <th>6718</th>\n",
       "      <td>17-January-2024</td>\n",
       "      <td>71998.93</td>\n",
       "      <td>72484.80</td>\n",
       "      <td>71429.30</td>\n",
       "      <td>71500.76</td>\n",
       "      <td>2024</td>\n",
       "      <td>1</td>\n",
       "    </tr>\n",
       "    <tr>\n",
       "      <th>6719</th>\n",
       "      <td>18-January-2024</td>\n",
       "      <td>71018.86</td>\n",
       "      <td>71451.29</td>\n",
       "      <td>70665.50</td>\n",
       "      <td>71186.86</td>\n",
       "      <td>2024</td>\n",
       "      <td>1</td>\n",
       "    </tr>\n",
       "    <tr>\n",
       "      <th>6720</th>\n",
       "      <td>19-January-2024</td>\n",
       "      <td>71786.74</td>\n",
       "      <td>71895.64</td>\n",
       "      <td>71542.74</td>\n",
       "      <td>71683.23</td>\n",
       "      <td>2024</td>\n",
       "      <td>1</td>\n",
       "    </tr>\n",
       "    <tr>\n",
       "      <th>6721</th>\n",
       "      <td>20-January-2024</td>\n",
       "      <td>72008.30</td>\n",
       "      <td>72026.26</td>\n",
       "      <td>71312.71</td>\n",
       "      <td>71423.65</td>\n",
       "      <td>2024</td>\n",
       "      <td>1</td>\n",
       "    </tr>\n",
       "    <tr>\n",
       "      <th>6722</th>\n",
       "      <td>23-January-2024</td>\n",
       "      <td>71868.20</td>\n",
       "      <td>72039.20</td>\n",
       "      <td>70234.55</td>\n",
       "      <td>70370.55</td>\n",
       "      <td>2024</td>\n",
       "      <td>1</td>\n",
       "    </tr>\n",
       "  </tbody>\n",
       "</table>\n",
       "</div>"
      ],
      "text/plain": [
       "                 Date      Open      High       Low     Close  year  month\n",
       "6718  17-January-2024  71998.93  72484.80  71429.30  71500.76  2024      1\n",
       "6719  18-January-2024  71018.86  71451.29  70665.50  71186.86  2024      1\n",
       "6720  19-January-2024  71786.74  71895.64  71542.74  71683.23  2024      1\n",
       "6721  20-January-2024  72008.30  72026.26  71312.71  71423.65  2024      1\n",
       "6722  23-January-2024  71868.20  72039.20  70234.55  70370.55  2024      1"
      ]
     },
     "execution_count": 42,
     "metadata": {},
     "output_type": "execute_result"
    }
   ],
   "source": [
    "df.tail()"
   ]
  },
  {
   "cell_type": "code",
   "execution_count": 43,
   "id": "f8c2c7a8-6ffe-41da-b1a0-162d9dabca0e",
   "metadata": {},
   "outputs": [
    {
     "name": "stdout",
     "output_type": "stream",
     "text": [
      "total: 6723 \t train: 5964, test: 759\n"
     ]
    }
   ],
   "source": [
    "df_train, df_test = df[df['year']<2021], df[df['year']>=2021]\n",
    "print(f\"total: {len(df)} \\t train: {len(df_train)}, test: {len(df_test)}\")"
   ]
  },
  {
   "cell_type": "code",
   "execution_count": 60,
   "id": "f572eba9-431c-45ac-b7e6-24cdea7755d9",
   "metadata": {},
   "outputs": [],
   "source": [
    "window_size = 13\n",
    "X =[]\n",
    "y = []\n",
    "for i in range(window_size,len(df_test)):\n",
    "    X.append(df_test['Close'].iloc[i-window_size:i])\n",
    "    y.append(df_test['Close'].iloc[i])"
   ]
  },
  {
   "cell_type": "code",
   "execution_count": 61,
   "id": "7b074d66-ac94-448c-bf49-ffbfdb8126dc",
   "metadata": {},
   "outputs": [
    {
     "data": {
      "text/plain": [
       "array([47868.98, 48176.8 , 48437.78, 48174.06, 48093.32, 48782.51,\n",
       "       49269.32, 49517.11, 49492.32, 49584.16, 49034.67, 48564.27,\n",
       "       49398.29])"
      ]
     },
     "execution_count": 61,
     "metadata": {},
     "output_type": "execute_result"
    }
   ],
   "source": [
    "xx = np.array(X)\n",
    "xx[0]"
   ]
  },
  {
   "cell_type": "code",
   "execution_count": 62,
   "id": "fc5dbcc3-d186-488c-8f2e-021d4619c753",
   "metadata": {},
   "outputs": [
    {
     "data": {
      "text/plain": [
       "(746,)"
      ]
     },
     "execution_count": 62,
     "metadata": {},
     "output_type": "execute_result"
    }
   ],
   "source": [
    "yy = np.array(y)\n",
    "yy.shape"
   ]
  },
  {
   "cell_type": "code",
   "execution_count": 18,
   "id": "ae206967-db54-4f83-946f-e7b336198c5e",
   "metadata": {},
   "outputs": [
    {
     "name": "stderr",
     "output_type": "stream",
     "text": [
      "/Users/onkar.pandit/miniconda3/envs/tsa/lib/python3.11/site-packages/statsmodels/tsa/statespace/sarimax.py:966: UserWarning: Non-stationary starting autoregressive parameters found. Using zeros as starting parameters.\n",
      "  warn('Non-stationary starting autoregressive parameters'\n",
      "/Users/onkar.pandit/miniconda3/envs/tsa/lib/python3.11/site-packages/statsmodels/base/model.py:607: ConvergenceWarning: Maximum Likelihood optimization failed to converge. Check mle_retvals\n",
      "  warnings.warn(\"Maximum Likelihood optimization failed to \"\n"
     ]
    }
   ],
   "source": [
    "mod = ARIMA(df_train['Close'], order=(13, 0, 0))\n",
    "model_fit = mod.fit()\n",
    "# itc_df['Close_pred'] = res.predict()\n",
    "# print(res.summary())"
   ]
  },
  {
   "cell_type": "code",
   "execution_count": 31,
   "id": "8f185537-03dc-4ada-af38-a0ee9b3b731e",
   "metadata": {},
   "outputs": [
    {
     "data": {
      "text/plain": [
       "5964"
      ]
     },
     "execution_count": 31,
     "metadata": {},
     "output_type": "execute_result"
    }
   ],
   "source": [
    "len(df_train)"
   ]
  },
  {
   "cell_type": "code",
   "execution_count": 13,
   "id": "733ea35f-a17e-4b9b-be4b-c955982c266c",
   "metadata": {},
   "outputs": [
    {
     "data": {
      "text/plain": [
       "<statsmodels.tsa.arima.model.ARIMAResultsWrapper at 0x352e3e150>"
      ]
     },
     "execution_count": 13,
     "metadata": {},
     "output_type": "execute_result"
    }
   ],
   "source": [
    "res"
   ]
  },
  {
   "cell_type": "code",
   "execution_count": 24,
   "id": "db8228f9-08f8-4bbd-abf9-6f2203fd1045",
   "metadata": {},
   "outputs": [],
   "source": [
    "forecast = model_fit.forecast(steps=len(df_test)) "
   ]
  },
  {
   "cell_type": "code",
   "execution_count": 25,
   "id": "1c75edf6-863f-4289-abe2-9e4cbdcaf7d2",
   "metadata": {},
   "outputs": [
    {
     "data": {
      "text/plain": [
       "pandas.core.series.Series"
      ]
     },
     "execution_count": 25,
     "metadata": {},
     "output_type": "execute_result"
    }
   ],
   "source": [
    "type(forecast)"
   ]
  },
  {
   "cell_type": "code",
   "execution_count": 26,
   "id": "a2c00c1e-647d-4905-9cdb-9f4037b245da",
   "metadata": {},
   "outputs": [
    {
     "name": "stderr",
     "output_type": "stream",
     "text": [
      "/var/folders/g6/ylqy09q54v911zyx1bmf687c0000gp/T/ipykernel_17974/4244669927.py:1: SettingWithCopyWarning: \n",
      "A value is trying to be set on a copy of a slice from a DataFrame.\n",
      "Try using .loc[row_indexer,col_indexer] = value instead\n",
      "\n",
      "See the caveats in the documentation: https://pandas.pydata.org/pandas-docs/stable/user_guide/indexing.html#returning-a-view-versus-a-copy\n",
      "  df_test['pred_values'] = forecast\n"
     ]
    }
   ],
   "source": [
    "df_test['pred_values'] = forecast\n"
   ]
  },
  {
   "cell_type": "code",
   "execution_count": 27,
   "id": "70e7416d-03dc-4cff-beba-d4710b524df7",
   "metadata": {},
   "outputs": [
    {
     "data": {
      "text/html": [
       "<div>\n",
       "<style scoped>\n",
       "    .dataframe tbody tr th:only-of-type {\n",
       "        vertical-align: middle;\n",
       "    }\n",
       "\n",
       "    .dataframe tbody tr th {\n",
       "        vertical-align: top;\n",
       "    }\n",
       "\n",
       "    .dataframe thead th {\n",
       "        text-align: right;\n",
       "    }\n",
       "</style>\n",
       "<table border=\"1\" class=\"dataframe\">\n",
       "  <thead>\n",
       "    <tr style=\"text-align: right;\">\n",
       "      <th></th>\n",
       "      <th>Date</th>\n",
       "      <th>Open</th>\n",
       "      <th>High</th>\n",
       "      <th>Low</th>\n",
       "      <th>Close</th>\n",
       "      <th>year</th>\n",
       "      <th>month</th>\n",
       "      <th>pred_values</th>\n",
       "    </tr>\n",
       "  </thead>\n",
       "  <tbody>\n",
       "    <tr>\n",
       "      <th>5964</th>\n",
       "      <td>1-January-2021</td>\n",
       "      <td>47785.28</td>\n",
       "      <td>47980.36</td>\n",
       "      <td>47771.15</td>\n",
       "      <td>47868.98</td>\n",
       "      <td>2021</td>\n",
       "      <td>1</td>\n",
       "      <td>47773.705939</td>\n",
       "    </tr>\n",
       "    <tr>\n",
       "      <th>5965</th>\n",
       "      <td>4-January-2021</td>\n",
       "      <td>48109.17</td>\n",
       "      <td>48220.47</td>\n",
       "      <td>47594.47</td>\n",
       "      <td>48176.80</td>\n",
       "      <td>2021</td>\n",
       "      <td>1</td>\n",
       "      <td>47841.244664</td>\n",
       "    </tr>\n",
       "    <tr>\n",
       "      <th>5966</th>\n",
       "      <td>5-January-2021</td>\n",
       "      <td>48037.63</td>\n",
       "      <td>48486.24</td>\n",
       "      <td>47903.38</td>\n",
       "      <td>48437.78</td>\n",
       "      <td>2021</td>\n",
       "      <td>1</td>\n",
       "      <td>47635.722495</td>\n",
       "    </tr>\n",
       "    <tr>\n",
       "      <th>5967</th>\n",
       "      <td>6-January-2021</td>\n",
       "      <td>48616.66</td>\n",
       "      <td>48616.66</td>\n",
       "      <td>47864.14</td>\n",
       "      <td>48174.06</td>\n",
       "      <td>2021</td>\n",
       "      <td>1</td>\n",
       "      <td>47971.207785</td>\n",
       "    </tr>\n",
       "    <tr>\n",
       "      <th>5968</th>\n",
       "      <td>7-January-2021</td>\n",
       "      <td>48524.36</td>\n",
       "      <td>48558.34</td>\n",
       "      <td>48037.87</td>\n",
       "      <td>48093.32</td>\n",
       "      <td>2021</td>\n",
       "      <td>1</td>\n",
       "      <td>47726.011125</td>\n",
       "    </tr>\n",
       "  </tbody>\n",
       "</table>\n",
       "</div>"
      ],
      "text/plain": [
       "                Date      Open      High       Low     Close  year  month  \\\n",
       "5964  1-January-2021  47785.28  47980.36  47771.15  47868.98  2021      1   \n",
       "5965  4-January-2021  48109.17  48220.47  47594.47  48176.80  2021      1   \n",
       "5966  5-January-2021  48037.63  48486.24  47903.38  48437.78  2021      1   \n",
       "5967  6-January-2021  48616.66  48616.66  47864.14  48174.06  2021      1   \n",
       "5968  7-January-2021  48524.36  48558.34  48037.87  48093.32  2021      1   \n",
       "\n",
       "       pred_values  \n",
       "5964  47773.705939  \n",
       "5965  47841.244664  \n",
       "5966  47635.722495  \n",
       "5967  47971.207785  \n",
       "5968  47726.011125  "
      ]
     },
     "execution_count": 27,
     "metadata": {},
     "output_type": "execute_result"
    }
   ],
   "source": [
    "df_test.head()"
   ]
  },
  {
   "cell_type": "code",
   "execution_count": 28,
   "id": "20cb15db-4280-4e9e-8834-238f952a3f55",
   "metadata": {},
   "outputs": [
    {
     "name": "stdout",
     "output_type": "stream",
     "text": [
      "/Users/onkar.pandit/miniconda3/bin/python\n"
     ]
    }
   ],
   "source": [
    "!which python"
   ]
  },
  {
   "cell_type": "code",
   "execution_count": 29,
   "id": "558a564c-1914-4d02-8cfd-a98e4777c479",
   "metadata": {},
   "outputs": [
    {
     "name": "stdout",
     "output_type": "stream",
     "text": [
      "Python 3.11.5 (main, Sep 11 2023, 08:31:25) [Clang 14.0.6 ] on darwin\n",
      "Type \"help\", \"copyright\", \"credits\" or \"license\" for more information.\n",
      ">>> \n",
      "KeyboardInterrupt\n",
      ">>> \n",
      ">>> "
     ]
    }
   ],
   "source": [
    "!python"
   ]
  },
  {
   "cell_type": "code",
   "execution_count": 30,
   "id": "d7c2dcad-8af3-4e95-bc5a-2dfcc07075bb",
   "metadata": {},
   "outputs": [],
   "source": [
    "s = 12"
   ]
  },
  {
   "cell_type": "code",
   "execution_count": null,
   "id": "960390c9-7cce-42dc-a80d-1831aebccf8c",
   "metadata": {},
   "outputs": [],
   "source": []
  }
 ],
 "metadata": {
  "kernelspec": {
   "display_name": "tsa",
   "language": "python",
   "name": "tsa"
  },
  "language_info": {
   "codemirror_mode": {
    "name": "ipython",
    "version": 3
   },
   "file_extension": ".py",
   "mimetype": "text/x-python",
   "name": "python",
   "nbconvert_exporter": "python",
   "pygments_lexer": "ipython3",
   "version": "3.11.9"
  }
 },
 "nbformat": 4,
 "nbformat_minor": 5
}
