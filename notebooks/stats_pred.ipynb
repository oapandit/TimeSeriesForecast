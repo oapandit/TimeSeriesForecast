{
 "cells": [
  {
   "cell_type": "code",
   "execution_count": 84,
   "id": "0d50e66b-34de-4fd2-9466-f5cda0373a2b",
   "metadata": {},
   "outputs": [],
   "source": [
    "%matplotlib inline\n",
    "\n",
    "import os\n",
    "import matplotlib.pyplot as plt\n",
    "import numpy as np\n",
    "import pandas as pd\n",
    "import statsmodels.api as sm\n",
    "from scipy import stats\n",
    "from statsmodels.tsa.arima.model import ARIMA\n",
    "from statsmodels.graphics.api import qqplot\n",
    "\n",
    "data_root = \"/Users/onkar.pandit/PycharmProjects/dummy/TimeSeriesForecast/data/raw/\"\n",
    "\n",
    "def read_csv(file_path):\n",
    "    df = pd.read_csv(file_path,index_col=False)\n",
    "    return df\n",
    "\n",
    "def get_year_month(df):\n",
    "    df['year'] = pd.DatetimeIndex(df['Date']).year\n",
    "    df['month'] = pd.DatetimeIndex(df['Date']).month\n",
    "    return df"
   ]
  },
  {
   "cell_type": "code",
   "execution_count": 41,
   "id": "93d695a2-677a-4f1f-ab41-e5a81f490062",
   "metadata": {},
   "outputs": [],
   "source": [
    "df = read_csv(os.path.join(data_root,\"sensex.csv\"))\n",
    "df = get_year_month(df)"
   ]
  },
  {
   "cell_type": "code",
   "execution_count": 42,
   "id": "ca3fe5f1-69e6-4b26-bd4c-f85c43e1f9f3",
   "metadata": {},
   "outputs": [
    {
     "data": {
      "text/html": [
       "<div>\n",
       "<style scoped>\n",
       "    .dataframe tbody tr th:only-of-type {\n",
       "        vertical-align: middle;\n",
       "    }\n",
       "\n",
       "    .dataframe tbody tr th {\n",
       "        vertical-align: top;\n",
       "    }\n",
       "\n",
       "    .dataframe thead th {\n",
       "        text-align: right;\n",
       "    }\n",
       "</style>\n",
       "<table border=\"1\" class=\"dataframe\">\n",
       "  <thead>\n",
       "    <tr style=\"text-align: right;\">\n",
       "      <th></th>\n",
       "      <th>Date</th>\n",
       "      <th>Open</th>\n",
       "      <th>High</th>\n",
       "      <th>Low</th>\n",
       "      <th>Close</th>\n",
       "      <th>year</th>\n",
       "      <th>month</th>\n",
       "    </tr>\n",
       "  </thead>\n",
       "  <tbody>\n",
       "    <tr>\n",
       "      <th>6718</th>\n",
       "      <td>17-January-2024</td>\n",
       "      <td>71998.93</td>\n",
       "      <td>72484.80</td>\n",
       "      <td>71429.30</td>\n",
       "      <td>71500.76</td>\n",
       "      <td>2024</td>\n",
       "      <td>1</td>\n",
       "    </tr>\n",
       "    <tr>\n",
       "      <th>6719</th>\n",
       "      <td>18-January-2024</td>\n",
       "      <td>71018.86</td>\n",
       "      <td>71451.29</td>\n",
       "      <td>70665.50</td>\n",
       "      <td>71186.86</td>\n",
       "      <td>2024</td>\n",
       "      <td>1</td>\n",
       "    </tr>\n",
       "    <tr>\n",
       "      <th>6720</th>\n",
       "      <td>19-January-2024</td>\n",
       "      <td>71786.74</td>\n",
       "      <td>71895.64</td>\n",
       "      <td>71542.74</td>\n",
       "      <td>71683.23</td>\n",
       "      <td>2024</td>\n",
       "      <td>1</td>\n",
       "    </tr>\n",
       "    <tr>\n",
       "      <th>6721</th>\n",
       "      <td>20-January-2024</td>\n",
       "      <td>72008.30</td>\n",
       "      <td>72026.26</td>\n",
       "      <td>71312.71</td>\n",
       "      <td>71423.65</td>\n",
       "      <td>2024</td>\n",
       "      <td>1</td>\n",
       "    </tr>\n",
       "    <tr>\n",
       "      <th>6722</th>\n",
       "      <td>23-January-2024</td>\n",
       "      <td>71868.20</td>\n",
       "      <td>72039.20</td>\n",
       "      <td>70234.55</td>\n",
       "      <td>70370.55</td>\n",
       "      <td>2024</td>\n",
       "      <td>1</td>\n",
       "    </tr>\n",
       "  </tbody>\n",
       "</table>\n",
       "</div>"
      ],
      "text/plain": [
       "                 Date      Open      High       Low     Close  year  month\n",
       "6718  17-January-2024  71998.93  72484.80  71429.30  71500.76  2024      1\n",
       "6719  18-January-2024  71018.86  71451.29  70665.50  71186.86  2024      1\n",
       "6720  19-January-2024  71786.74  71895.64  71542.74  71683.23  2024      1\n",
       "6721  20-January-2024  72008.30  72026.26  71312.71  71423.65  2024      1\n",
       "6722  23-January-2024  71868.20  72039.20  70234.55  70370.55  2024      1"
      ]
     },
     "execution_count": 42,
     "metadata": {},
     "output_type": "execute_result"
    }
   ],
   "source": [
    "df.tail()"
   ]
  },
  {
   "cell_type": "code",
   "execution_count": 71,
   "id": "f8c2c7a8-6ffe-41da-b1a0-162d9dabca0e",
   "metadata": {},
   "outputs": [
    {
     "name": "stdout",
     "output_type": "stream",
     "text": [
      "total: 6723 \t train: 5964, test: 759\n"
     ]
    }
   ],
   "source": [
    "df_train, df_test = df[df['year']<2021], df[df['year']>=2021]\n",
    "print(f\"total: {len(df)} \\t train: {len(df_train)}, test: {len(df_test)}\")"
   ]
  },
  {
   "cell_type": "code",
   "execution_count": 60,
   "id": "f572eba9-431c-45ac-b7e6-24cdea7755d9",
   "metadata": {},
   "outputs": [],
   "source": [
    "window_size = 13\n",
    "X =[]\n",
    "y = []\n",
    "for i in range(window_size,len(df_test)):\n",
    "    X.append(df_test['Close'].iloc[i-window_size:i])\n",
    "    y.append(df_test['Close'].iloc[i])"
   ]
  },
  {
   "cell_type": "code",
   "execution_count": 61,
   "id": "7b074d66-ac94-448c-bf49-ffbfdb8126dc",
   "metadata": {},
   "outputs": [
    {
     "data": {
      "text/plain": [
       "array([47868.98, 48176.8 , 48437.78, 48174.06, 48093.32, 48782.51,\n",
       "       49269.32, 49517.11, 49492.32, 49584.16, 49034.67, 48564.27,\n",
       "       49398.29])"
      ]
     },
     "execution_count": 61,
     "metadata": {},
     "output_type": "execute_result"
    }
   ],
   "source": [
    "xx = np.array(X)\n",
    "xx[0]"
   ]
  },
  {
   "cell_type": "code",
   "execution_count": 62,
   "id": "fc5dbcc3-d186-488c-8f2e-021d4619c753",
   "metadata": {},
   "outputs": [
    {
     "data": {
      "text/plain": [
       "(746,)"
      ]
     },
     "execution_count": 62,
     "metadata": {},
     "output_type": "execute_result"
    }
   ],
   "source": [
    "yy = np.array(y)\n",
    "yy.shape"
   ]
  },
  {
   "cell_type": "code",
   "execution_count": 63,
   "id": "527bd672-1361-45ce-8e1f-d9f56be0339d",
   "metadata": {},
   "outputs": [],
   "source": [
    "def get_prev_close_features(data,window_size):\n",
    "    X = []\n",
    "    y = []\n",
    "    for i in range(window_size, len(data)):\n",
    "        X.append(data['Close'].iloc[i - window_size:i])\n",
    "        y.append(data['Close'].iloc[i])\n",
    "    x = np.array(X)\n",
    "    y = np.array(y)\n",
    "    return x,y\n",
    "x_train,y_train = get_prev_close_features(df_train, window_size=13)\n",
    "x_test, y_test = get_prev_close_features(df_test, window_size=13)"
   ]
  },
  {
   "cell_type": "code",
   "execution_count": 65,
   "id": "98d4db8d-5d93-4a26-aee2-b11bf80caa2a",
   "metadata": {},
   "outputs": [
    {
     "data": {
      "text/plain": [
       "array([3260.56, 3225.24, 3264.  , 3252.31, 3264.12, 3288.88, 3362.39,\n",
       "       3418.32, 3453.16, 3492.26, 3646.73, 3455.88, 3422.35])"
      ]
     },
     "execution_count": 65,
     "metadata": {},
     "output_type": "execute_result"
    }
   ],
   "source": [
    "x_train[0]"
   ]
  },
  {
   "cell_type": "code",
   "execution_count": 67,
   "id": "d9d3a6f3-367c-4f3c-ac2c-3038b6bdda0e",
   "metadata": {},
   "outputs": [],
   "source": [
    "from sklearn.preprocessing import StandardScaler\n",
    "scaler = StandardScaler()\n",
    "\n",
    "X_train_scaled = scaler.fit_transform(x_train)\n",
    "X_test_scaled = scaler.transform(x_test)"
   ]
  },
  {
   "cell_type": "code",
   "execution_count": 68,
   "id": "57c081d4-f8b6-410b-a621-abf410f851e5",
   "metadata": {},
   "outputs": [
    {
     "data": {
      "text/plain": [
       "array([-1.11227954, -1.11544036, -1.11219373, -1.11329893, -1.11236763,\n",
       "       -1.11031735, -1.1040997 , -1.09939056, -1.09649151, -1.09321319,\n",
       "       -1.07998851, -1.09649817, -1.09945547])"
      ]
     },
     "execution_count": 68,
     "metadata": {},
     "output_type": "execute_result"
    }
   ],
   "source": [
    "X_train_scaled[0]"
   ]
  },
  {
   "cell_type": "code",
   "execution_count": 81,
   "id": "831667fd-d940-4104-9b5e-fd1e70175d55",
   "metadata": {},
   "outputs": [
    {
     "name": "stdout",
     "output_type": "stream",
     "text": [
      "(6710, 13) (6710,)\n"
     ]
    }
   ],
   "source": [
    "X,Y = get_prev_close_features(df, window_size=13)\n",
    "print(X.shape,Y.shape)"
   ]
  },
  {
   "cell_type": "code",
   "execution_count": 78,
   "id": "b251cff3-7882-4936-9b41-fdd999d20b59",
   "metadata": {},
   "outputs": [
    {
     "name": "stdout",
     "output_type": "stream",
     "text": [
      "(5951, 13) (5951,)\n",
      "(759, 13) (759,)\n"
     ]
    }
   ],
   "source": [
    "train_sample = x.shape[0] - len(df_test)\n",
    "x_train,y_train = x[0:train_sample],y[0:train_sample]\n",
    "x_test,y_test = x[train_sample:],y[train_sample:]\n",
    "\n",
    "assert x_test.shape[0] == len(df_test)\n",
    "print(x_train.shape,y_train.shape)\n",
    "print(x_test.shape,y_test.shape)"
   ]
  },
  {
   "cell_type": "code",
   "execution_count": 83,
   "id": "3a27512e-83bb-4ead-a4c0-ae60b82a4590",
   "metadata": {
    "collapsed": true,
    "jupyter": {
     "outputs_hidden": true
    }
   },
   "outputs": [
    {
     "name": "stdout",
     "output_type": "stream",
     "text": [
      "torch.Size([32, 13]) torch.Size([32])\n",
      "torch.Size([32, 13]) torch.Size([32])\n",
      "torch.Size([32, 13]) torch.Size([32])\n",
      "torch.Size([32, 13]) torch.Size([32])\n",
      "torch.Size([32, 13]) torch.Size([32])\n",
      "torch.Size([32, 13]) torch.Size([32])\n",
      "torch.Size([32, 13]) torch.Size([32])\n",
      "torch.Size([32, 13]) torch.Size([32])\n",
      "torch.Size([32, 13]) torch.Size([32])\n",
      "torch.Size([32, 13]) torch.Size([32])\n",
      "torch.Size([32, 13]) torch.Size([32])\n",
      "torch.Size([32, 13]) torch.Size([32])\n",
      "torch.Size([32, 13]) torch.Size([32])\n",
      "torch.Size([32, 13]) torch.Size([32])\n",
      "torch.Size([32, 13]) torch.Size([32])\n",
      "torch.Size([32, 13]) torch.Size([32])\n",
      "torch.Size([32, 13]) torch.Size([32])\n",
      "torch.Size([32, 13]) torch.Size([32])\n",
      "torch.Size([32, 13]) torch.Size([32])\n",
      "torch.Size([32, 13]) torch.Size([32])\n",
      "torch.Size([32, 13]) torch.Size([32])\n",
      "torch.Size([32, 13]) torch.Size([32])\n",
      "torch.Size([32, 13]) torch.Size([32])\n",
      "torch.Size([32, 13]) torch.Size([32])\n",
      "torch.Size([32, 13]) torch.Size([32])\n",
      "torch.Size([32, 13]) torch.Size([32])\n",
      "torch.Size([32, 13]) torch.Size([32])\n",
      "torch.Size([32, 13]) torch.Size([32])\n",
      "torch.Size([32, 13]) torch.Size([32])\n",
      "torch.Size([32, 13]) torch.Size([32])\n",
      "torch.Size([32, 13]) torch.Size([32])\n",
      "torch.Size([32, 13]) torch.Size([32])\n",
      "torch.Size([32, 13]) torch.Size([32])\n",
      "torch.Size([32, 13]) torch.Size([32])\n",
      "torch.Size([32, 13]) torch.Size([32])\n",
      "torch.Size([32, 13]) torch.Size([32])\n",
      "torch.Size([32, 13]) torch.Size([32])\n",
      "torch.Size([32, 13]) torch.Size([32])\n",
      "torch.Size([32, 13]) torch.Size([32])\n",
      "torch.Size([32, 13]) torch.Size([32])\n",
      "torch.Size([32, 13]) torch.Size([32])\n",
      "torch.Size([32, 13]) torch.Size([32])\n",
      "torch.Size([32, 13]) torch.Size([32])\n",
      "torch.Size([32, 13]) torch.Size([32])\n",
      "torch.Size([32, 13]) torch.Size([32])\n",
      "torch.Size([32, 13]) torch.Size([32])\n",
      "torch.Size([32, 13]) torch.Size([32])\n",
      "torch.Size([32, 13]) torch.Size([32])\n",
      "torch.Size([32, 13]) torch.Size([32])\n",
      "torch.Size([32, 13]) torch.Size([32])\n",
      "torch.Size([32, 13]) torch.Size([32])\n",
      "torch.Size([32, 13]) torch.Size([32])\n",
      "torch.Size([32, 13]) torch.Size([32])\n",
      "torch.Size([32, 13]) torch.Size([32])\n",
      "torch.Size([32, 13]) torch.Size([32])\n",
      "torch.Size([32, 13]) torch.Size([32])\n",
      "torch.Size([32, 13]) torch.Size([32])\n",
      "torch.Size([32, 13]) torch.Size([32])\n",
      "torch.Size([32, 13]) torch.Size([32])\n",
      "torch.Size([32, 13]) torch.Size([32])\n",
      "torch.Size([32, 13]) torch.Size([32])\n",
      "torch.Size([32, 13]) torch.Size([32])\n",
      "torch.Size([32, 13]) torch.Size([32])\n",
      "torch.Size([32, 13]) torch.Size([32])\n",
      "torch.Size([32, 13]) torch.Size([32])\n",
      "torch.Size([32, 13]) torch.Size([32])\n",
      "torch.Size([32, 13]) torch.Size([32])\n",
      "torch.Size([32, 13]) torch.Size([32])\n",
      "torch.Size([32, 13]) torch.Size([32])\n",
      "torch.Size([32, 13]) torch.Size([32])\n",
      "torch.Size([32, 13]) torch.Size([32])\n",
      "torch.Size([32, 13]) torch.Size([32])\n",
      "torch.Size([32, 13]) torch.Size([32])\n",
      "torch.Size([32, 13]) torch.Size([32])\n",
      "torch.Size([32, 13]) torch.Size([32])\n",
      "torch.Size([32, 13]) torch.Size([32])\n",
      "torch.Size([32, 13]) torch.Size([32])\n",
      "torch.Size([32, 13]) torch.Size([32])\n",
      "torch.Size([32, 13]) torch.Size([32])\n",
      "torch.Size([32, 13]) torch.Size([32])\n",
      "torch.Size([32, 13]) torch.Size([32])\n",
      "torch.Size([32, 13]) torch.Size([32])\n",
      "torch.Size([32, 13]) torch.Size([32])\n",
      "torch.Size([32, 13]) torch.Size([32])\n",
      "torch.Size([32, 13]) torch.Size([32])\n",
      "torch.Size([32, 13]) torch.Size([32])\n",
      "torch.Size([32, 13]) torch.Size([32])\n",
      "torch.Size([32, 13]) torch.Size([32])\n",
      "torch.Size([32, 13]) torch.Size([32])\n",
      "torch.Size([32, 13]) torch.Size([32])\n",
      "torch.Size([32, 13]) torch.Size([32])\n",
      "torch.Size([32, 13]) torch.Size([32])\n",
      "torch.Size([32, 13]) torch.Size([32])\n",
      "torch.Size([32, 13]) torch.Size([32])\n",
      "torch.Size([32, 13]) torch.Size([32])\n",
      "torch.Size([32, 13]) torch.Size([32])\n",
      "torch.Size([32, 13]) torch.Size([32])\n",
      "torch.Size([32, 13]) torch.Size([32])\n",
      "torch.Size([32, 13]) torch.Size([32])\n",
      "torch.Size([32, 13]) torch.Size([32])\n",
      "torch.Size([32, 13]) torch.Size([32])\n",
      "torch.Size([32, 13]) torch.Size([32])\n",
      "torch.Size([32, 13]) torch.Size([32])\n",
      "torch.Size([32, 13]) torch.Size([32])\n",
      "torch.Size([32, 13]) torch.Size([32])\n",
      "torch.Size([32, 13]) torch.Size([32])\n",
      "torch.Size([32, 13]) torch.Size([32])\n",
      "torch.Size([32, 13]) torch.Size([32])\n",
      "torch.Size([32, 13]) torch.Size([32])\n",
      "torch.Size([32, 13]) torch.Size([32])\n",
      "torch.Size([32, 13]) torch.Size([32])\n",
      "torch.Size([32, 13]) torch.Size([32])\n",
      "torch.Size([32, 13]) torch.Size([32])\n",
      "torch.Size([32, 13]) torch.Size([32])\n",
      "torch.Size([32, 13]) torch.Size([32])\n",
      "torch.Size([32, 13]) torch.Size([32])\n",
      "torch.Size([32, 13]) torch.Size([32])\n",
      "torch.Size([32, 13]) torch.Size([32])\n",
      "torch.Size([32, 13]) torch.Size([32])\n",
      "torch.Size([32, 13]) torch.Size([32])\n",
      "torch.Size([32, 13]) torch.Size([32])\n",
      "torch.Size([32, 13]) torch.Size([32])\n",
      "torch.Size([32, 13]) torch.Size([32])\n",
      "torch.Size([32, 13]) torch.Size([32])\n",
      "torch.Size([32, 13]) torch.Size([32])\n",
      "torch.Size([32, 13]) torch.Size([32])\n",
      "torch.Size([32, 13]) torch.Size([32])\n",
      "torch.Size([32, 13]) torch.Size([32])\n",
      "torch.Size([32, 13]) torch.Size([32])\n",
      "torch.Size([32, 13]) torch.Size([32])\n",
      "torch.Size([32, 13]) torch.Size([32])\n",
      "torch.Size([32, 13]) torch.Size([32])\n",
      "torch.Size([32, 13]) torch.Size([32])\n",
      "torch.Size([32, 13]) torch.Size([32])\n",
      "torch.Size([32, 13]) torch.Size([32])\n",
      "torch.Size([32, 13]) torch.Size([32])\n",
      "torch.Size([32, 13]) torch.Size([32])\n",
      "torch.Size([32, 13]) torch.Size([32])\n",
      "torch.Size([32, 13]) torch.Size([32])\n",
      "torch.Size([32, 13]) torch.Size([32])\n",
      "torch.Size([32, 13]) torch.Size([32])\n",
      "torch.Size([32, 13]) torch.Size([32])\n",
      "torch.Size([32, 13]) torch.Size([32])\n",
      "torch.Size([32, 13]) torch.Size([32])\n",
      "torch.Size([32, 13]) torch.Size([32])\n",
      "torch.Size([32, 13]) torch.Size([32])\n",
      "torch.Size([32, 13]) torch.Size([32])\n",
      "torch.Size([32, 13]) torch.Size([32])\n",
      "torch.Size([32, 13]) torch.Size([32])\n",
      "torch.Size([32, 13]) torch.Size([32])\n",
      "torch.Size([32, 13]) torch.Size([32])\n",
      "torch.Size([32, 13]) torch.Size([32])\n",
      "torch.Size([32, 13]) torch.Size([32])\n",
      "torch.Size([32, 13]) torch.Size([32])\n",
      "torch.Size([32, 13]) torch.Size([32])\n",
      "torch.Size([32, 13]) torch.Size([32])\n",
      "torch.Size([32, 13]) torch.Size([32])\n",
      "torch.Size([32, 13]) torch.Size([32])\n",
      "torch.Size([32, 13]) torch.Size([32])\n",
      "torch.Size([32, 13]) torch.Size([32])\n",
      "torch.Size([32, 13]) torch.Size([32])\n",
      "torch.Size([32, 13]) torch.Size([32])\n",
      "torch.Size([32, 13]) torch.Size([32])\n",
      "torch.Size([32, 13]) torch.Size([32])\n",
      "torch.Size([32, 13]) torch.Size([32])\n",
      "torch.Size([32, 13]) torch.Size([32])\n",
      "torch.Size([32, 13]) torch.Size([32])\n",
      "torch.Size([32, 13]) torch.Size([32])\n",
      "torch.Size([32, 13]) torch.Size([32])\n",
      "torch.Size([32, 13]) torch.Size([32])\n",
      "torch.Size([32, 13]) torch.Size([32])\n",
      "torch.Size([32, 13]) torch.Size([32])\n",
      "torch.Size([32, 13]) torch.Size([32])\n",
      "torch.Size([32, 13]) torch.Size([32])\n",
      "torch.Size([32, 13]) torch.Size([32])\n",
      "torch.Size([32, 13]) torch.Size([32])\n",
      "torch.Size([32, 13]) torch.Size([32])\n",
      "torch.Size([32, 13]) torch.Size([32])\n",
      "torch.Size([32, 13]) torch.Size([32])\n",
      "torch.Size([32, 13]) torch.Size([32])\n",
      "torch.Size([32, 13]) torch.Size([32])\n",
      "torch.Size([32, 13]) torch.Size([32])\n",
      "torch.Size([32, 13]) torch.Size([32])\n",
      "torch.Size([32, 13]) torch.Size([32])\n",
      "torch.Size([32, 13]) torch.Size([32])\n",
      "torch.Size([32, 13]) torch.Size([32])\n",
      "torch.Size([32, 13]) torch.Size([32])\n",
      "torch.Size([32, 13]) torch.Size([32])\n",
      "torch.Size([32, 13]) torch.Size([32])\n",
      "torch.Size([32, 13]) torch.Size([32])\n",
      "torch.Size([32, 13]) torch.Size([32])\n",
      "torch.Size([32, 13]) torch.Size([32])\n",
      "torch.Size([32, 13]) torch.Size([32])\n",
      "torch.Size([32, 13]) torch.Size([32])\n",
      "torch.Size([32, 13]) torch.Size([32])\n",
      "torch.Size([32, 13]) torch.Size([32])\n",
      "torch.Size([32, 13]) torch.Size([32])\n",
      "torch.Size([32, 13]) torch.Size([32])\n",
      "torch.Size([32, 13]) torch.Size([32])\n",
      "torch.Size([32, 13]) torch.Size([32])\n",
      "torch.Size([32, 13]) torch.Size([32])\n",
      "torch.Size([32, 13]) torch.Size([32])\n",
      "torch.Size([32, 13]) torch.Size([32])\n",
      "torch.Size([32, 13]) torch.Size([32])\n",
      "torch.Size([32, 13]) torch.Size([32])\n",
      "torch.Size([32, 13]) torch.Size([32])\n",
      "torch.Size([32, 13]) torch.Size([32])\n",
      "torch.Size([32, 13]) torch.Size([32])\n",
      "torch.Size([32, 13]) torch.Size([32])\n",
      "torch.Size([22, 13]) torch.Size([22])\n"
     ]
    }
   ],
   "source": [
    "import torch\n",
    "from torch.utils.data import TensorDataset, DataLoader\n",
    "\n",
    "# Convert numpy arrays to PyTorch tensors\n",
    "X_tensor = torch.tensor(X, dtype=torch.float32)\n",
    "y_tensor = torch.tensor(y, dtype=torch.float32)\n",
    "\n",
    "# Create a TensorDataset from the tensors\n",
    "dataset = TensorDataset(X_tensor, y_tensor)\n",
    "\n",
    "# Create a DataLoader with a batch size\n",
    "batch_size = 32  # Set your desired batch size here\n",
    "dataloader = DataLoader(dataset, batch_size=batch_size, shuffle=True)\n",
    "\n",
    "# Example: Iterate through the DataLoader\n",
    "for batch_X, batch_y in dataloader:\n",
    "    # Your training code here\n",
    "    print(batch_X.shape, batch_y.shape)\n"
   ]
  },
  {
   "cell_type": "code",
   "execution_count": 18,
   "id": "ae206967-db54-4f83-946f-e7b336198c5e",
   "metadata": {},
   "outputs": [
    {
     "name": "stderr",
     "output_type": "stream",
     "text": [
      "/Users/onkar.pandit/miniconda3/envs/tsa/lib/python3.11/site-packages/statsmodels/tsa/statespace/sarimax.py:966: UserWarning: Non-stationary starting autoregressive parameters found. Using zeros as starting parameters.\n",
      "  warn('Non-stationary starting autoregressive parameters'\n",
      "/Users/onkar.pandit/miniconda3/envs/tsa/lib/python3.11/site-packages/statsmodels/base/model.py:607: ConvergenceWarning: Maximum Likelihood optimization failed to converge. Check mle_retvals\n",
      "  warnings.warn(\"Maximum Likelihood optimization failed to \"\n"
     ]
    }
   ],
   "source": [
    "mod = ARIMA(df_train['Close'], order=(13, 0, 0))\n",
    "model_fit = mod.fit()\n",
    "# itc_df['Close_pred'] = res.predict()\n",
    "# print(res.summary())"
   ]
  },
  {
   "cell_type": "code",
   "execution_count": 31,
   "id": "8f185537-03dc-4ada-af38-a0ee9b3b731e",
   "metadata": {},
   "outputs": [
    {
     "data": {
      "text/plain": [
       "5964"
      ]
     },
     "execution_count": 31,
     "metadata": {},
     "output_type": "execute_result"
    }
   ],
   "source": [
    "len(df_train)"
   ]
  },
  {
   "cell_type": "code",
   "execution_count": 13,
   "id": "733ea35f-a17e-4b9b-be4b-c955982c266c",
   "metadata": {},
   "outputs": [
    {
     "data": {
      "text/plain": [
       "<statsmodels.tsa.arima.model.ARIMAResultsWrapper at 0x352e3e150>"
      ]
     },
     "execution_count": 13,
     "metadata": {},
     "output_type": "execute_result"
    }
   ],
   "source": [
    "res"
   ]
  },
  {
   "cell_type": "code",
   "execution_count": 24,
   "id": "db8228f9-08f8-4bbd-abf9-6f2203fd1045",
   "metadata": {},
   "outputs": [],
   "source": [
    "forecast = model_fit.forecast(steps=len(df_test)) "
   ]
  },
  {
   "cell_type": "code",
   "execution_count": 25,
   "id": "1c75edf6-863f-4289-abe2-9e4cbdcaf7d2",
   "metadata": {},
   "outputs": [
    {
     "data": {
      "text/plain": [
       "pandas.core.series.Series"
      ]
     },
     "execution_count": 25,
     "metadata": {},
     "output_type": "execute_result"
    }
   ],
   "source": [
    "type(forecast)"
   ]
  },
  {
   "cell_type": "code",
   "execution_count": 26,
   "id": "a2c00c1e-647d-4905-9cdb-9f4037b245da",
   "metadata": {},
   "outputs": [
    {
     "name": "stderr",
     "output_type": "stream",
     "text": [
      "/var/folders/g6/ylqy09q54v911zyx1bmf687c0000gp/T/ipykernel_17974/4244669927.py:1: SettingWithCopyWarning: \n",
      "A value is trying to be set on a copy of a slice from a DataFrame.\n",
      "Try using .loc[row_indexer,col_indexer] = value instead\n",
      "\n",
      "See the caveats in the documentation: https://pandas.pydata.org/pandas-docs/stable/user_guide/indexing.html#returning-a-view-versus-a-copy\n",
      "  df_test['pred_values'] = forecast\n"
     ]
    }
   ],
   "source": [
    "df_test['pred_values'] = forecast\n"
   ]
  },
  {
   "cell_type": "code",
   "execution_count": 27,
   "id": "70e7416d-03dc-4cff-beba-d4710b524df7",
   "metadata": {},
   "outputs": [
    {
     "data": {
      "text/html": [
       "<div>\n",
       "<style scoped>\n",
       "    .dataframe tbody tr th:only-of-type {\n",
       "        vertical-align: middle;\n",
       "    }\n",
       "\n",
       "    .dataframe tbody tr th {\n",
       "        vertical-align: top;\n",
       "    }\n",
       "\n",
       "    .dataframe thead th {\n",
       "        text-align: right;\n",
       "    }\n",
       "</style>\n",
       "<table border=\"1\" class=\"dataframe\">\n",
       "  <thead>\n",
       "    <tr style=\"text-align: right;\">\n",
       "      <th></th>\n",
       "      <th>Date</th>\n",
       "      <th>Open</th>\n",
       "      <th>High</th>\n",
       "      <th>Low</th>\n",
       "      <th>Close</th>\n",
       "      <th>year</th>\n",
       "      <th>month</th>\n",
       "      <th>pred_values</th>\n",
       "    </tr>\n",
       "  </thead>\n",
       "  <tbody>\n",
       "    <tr>\n",
       "      <th>5964</th>\n",
       "      <td>1-January-2021</td>\n",
       "      <td>47785.28</td>\n",
       "      <td>47980.36</td>\n",
       "      <td>47771.15</td>\n",
       "      <td>47868.98</td>\n",
       "      <td>2021</td>\n",
       "      <td>1</td>\n",
       "      <td>47773.705939</td>\n",
       "    </tr>\n",
       "    <tr>\n",
       "      <th>5965</th>\n",
       "      <td>4-January-2021</td>\n",
       "      <td>48109.17</td>\n",
       "      <td>48220.47</td>\n",
       "      <td>47594.47</td>\n",
       "      <td>48176.80</td>\n",
       "      <td>2021</td>\n",
       "      <td>1</td>\n",
       "      <td>47841.244664</td>\n",
       "    </tr>\n",
       "    <tr>\n",
       "      <th>5966</th>\n",
       "      <td>5-January-2021</td>\n",
       "      <td>48037.63</td>\n",
       "      <td>48486.24</td>\n",
       "      <td>47903.38</td>\n",
       "      <td>48437.78</td>\n",
       "      <td>2021</td>\n",
       "      <td>1</td>\n",
       "      <td>47635.722495</td>\n",
       "    </tr>\n",
       "    <tr>\n",
       "      <th>5967</th>\n",
       "      <td>6-January-2021</td>\n",
       "      <td>48616.66</td>\n",
       "      <td>48616.66</td>\n",
       "      <td>47864.14</td>\n",
       "      <td>48174.06</td>\n",
       "      <td>2021</td>\n",
       "      <td>1</td>\n",
       "      <td>47971.207785</td>\n",
       "    </tr>\n",
       "    <tr>\n",
       "      <th>5968</th>\n",
       "      <td>7-January-2021</td>\n",
       "      <td>48524.36</td>\n",
       "      <td>48558.34</td>\n",
       "      <td>48037.87</td>\n",
       "      <td>48093.32</td>\n",
       "      <td>2021</td>\n",
       "      <td>1</td>\n",
       "      <td>47726.011125</td>\n",
       "    </tr>\n",
       "  </tbody>\n",
       "</table>\n",
       "</div>"
      ],
      "text/plain": [
       "                Date      Open      High       Low     Close  year  month  \\\n",
       "5964  1-January-2021  47785.28  47980.36  47771.15  47868.98  2021      1   \n",
       "5965  4-January-2021  48109.17  48220.47  47594.47  48176.80  2021      1   \n",
       "5966  5-January-2021  48037.63  48486.24  47903.38  48437.78  2021      1   \n",
       "5967  6-January-2021  48616.66  48616.66  47864.14  48174.06  2021      1   \n",
       "5968  7-January-2021  48524.36  48558.34  48037.87  48093.32  2021      1   \n",
       "\n",
       "       pred_values  \n",
       "5964  47773.705939  \n",
       "5965  47841.244664  \n",
       "5966  47635.722495  \n",
       "5967  47971.207785  \n",
       "5968  47726.011125  "
      ]
     },
     "execution_count": 27,
     "metadata": {},
     "output_type": "execute_result"
    }
   ],
   "source": [
    "df_test.head()"
   ]
  },
  {
   "cell_type": "code",
   "execution_count": 28,
   "id": "20cb15db-4280-4e9e-8834-238f952a3f55",
   "metadata": {},
   "outputs": [
    {
     "name": "stdout",
     "output_type": "stream",
     "text": [
      "/Users/onkar.pandit/miniconda3/bin/python\n"
     ]
    }
   ],
   "source": [
    "!which python"
   ]
  },
  {
   "cell_type": "code",
   "execution_count": 29,
   "id": "558a564c-1914-4d02-8cfd-a98e4777c479",
   "metadata": {},
   "outputs": [
    {
     "name": "stdout",
     "output_type": "stream",
     "text": [
      "Python 3.11.5 (main, Sep 11 2023, 08:31:25) [Clang 14.0.6 ] on darwin\n",
      "Type \"help\", \"copyright\", \"credits\" or \"license\" for more information.\n",
      ">>> \n",
      "KeyboardInterrupt\n",
      ">>> \n",
      ">>> "
     ]
    }
   ],
   "source": [
    "!python"
   ]
  },
  {
   "cell_type": "code",
   "execution_count": 30,
   "id": "d7c2dcad-8af3-4e95-bc5a-2dfcc07075bb",
   "metadata": {},
   "outputs": [],
   "source": [
    "s = 12"
   ]
  },
  {
   "cell_type": "code",
   "execution_count": 85,
   "id": "960390c9-7cce-42dc-a80d-1831aebccf8c",
   "metadata": {},
   "outputs": [],
   "source": [
    "file_path = \"/Users/onkar.pandit/Downloads/dummy_data.csv\"\n",
    "data = read_csv(file_path)"
   ]
  },
  {
   "cell_type": "code",
   "execution_count": 86,
   "id": "5ad18a2c-e4d4-436b-8d95-bea8e35b97ab",
   "metadata": {},
   "outputs": [
    {
     "data": {
      "text/html": [
       "<div>\n",
       "<style scoped>\n",
       "    .dataframe tbody tr th:only-of-type {\n",
       "        vertical-align: middle;\n",
       "    }\n",
       "\n",
       "    .dataframe tbody tr th {\n",
       "        vertical-align: top;\n",
       "    }\n",
       "\n",
       "    .dataframe thead th {\n",
       "        text-align: right;\n",
       "    }\n",
       "</style>\n",
       "<table border=\"1\" class=\"dataframe\">\n",
       "  <thead>\n",
       "    <tr style=\"text-align: right;\">\n",
       "      <th></th>\n",
       "      <th>language</th>\n",
       "      <th>post_index</th>\n",
       "      <th>commentText</th>\n",
       "      <th>report_count_comment</th>\n",
       "      <th>report_count_post</th>\n",
       "      <th>like_count_comment</th>\n",
       "      <th>like_count_post</th>\n",
       "      <th>label</th>\n",
       "      <th>val</th>\n",
       "    </tr>\n",
       "  </thead>\n",
       "  <tbody>\n",
       "    <tr>\n",
       "      <th>0</th>\n",
       "      <td>Hindi</td>\n",
       "      <td>238566</td>\n",
       "      <td>शायद योगी जी है</td>\n",
       "      <td>0</td>\n",
       "      <td>0</td>\n",
       "      <td>1</td>\n",
       "      <td>1</td>\n",
       "      <td>0</td>\n",
       "      <td>0</td>\n",
       "    </tr>\n",
       "    <tr>\n",
       "      <th>1</th>\n",
       "      <td>Hindi</td>\n",
       "      <td>7009</td>\n",
       "      <td>Tingri h to putri tu.. .</td>\n",
       "      <td>0</td>\n",
       "      <td>0</td>\n",
       "      <td>0</td>\n",
       "      <td>0</td>\n",
       "      <td>0</td>\n",
       "      <td>0</td>\n",
       "    </tr>\n",
       "    <tr>\n",
       "      <th>2</th>\n",
       "      <td>Hindi</td>\n",
       "      <td>404648</td>\n",
       "      <td>Saale Tu kon sa pagal Nahi h . Teri comment pa...</td>\n",
       "      <td>0</td>\n",
       "      <td>0</td>\n",
       "      <td>0</td>\n",
       "      <td>0</td>\n",
       "      <td>1</td>\n",
       "      <td>0</td>\n",
       "    </tr>\n",
       "    <tr>\n",
       "      <th>3</th>\n",
       "      <td>Hindi</td>\n",
       "      <td>5057</td>\n",
       "      <td>girl 😘😘 aaj ke baad msg ki to maar daluggi</td>\n",
       "      <td>0</td>\n",
       "      <td>0</td>\n",
       "      <td>0</td>\n",
       "      <td>0</td>\n",
       "      <td>0</td>\n",
       "      <td>0</td>\n",
       "    </tr>\n",
       "    <tr>\n",
       "      <th>4</th>\n",
       "      <td>Hindi</td>\n",
       "      <td>107146</td>\n",
       "      <td>Free fire pubg ka baap ha kutta sala kamina</td>\n",
       "      <td>0</td>\n",
       "      <td>0</td>\n",
       "      <td>0</td>\n",
       "      <td>0</td>\n",
       "      <td>1</td>\n",
       "      <td>0</td>\n",
       "    </tr>\n",
       "  </tbody>\n",
       "</table>\n",
       "</div>"
      ],
      "text/plain": [
       "  language  post_index                                        commentText  \\\n",
       "0    Hindi      238566                                    शायद योगी जी है   \n",
       "1    Hindi        7009                           Tingri h to putri tu.. .   \n",
       "2    Hindi      404648  Saale Tu kon sa pagal Nahi h . Teri comment pa...   \n",
       "3    Hindi        5057         girl 😘😘 aaj ke baad msg ki to maar daluggi   \n",
       "4    Hindi      107146        Free fire pubg ka baap ha kutta sala kamina   \n",
       "\n",
       "   report_count_comment  report_count_post  like_count_comment  \\\n",
       "0                     0                  0                   1   \n",
       "1                     0                  0                   0   \n",
       "2                     0                  0                   0   \n",
       "3                     0                  0                   0   \n",
       "4                     0                  0                   0   \n",
       "\n",
       "   like_count_post  label  val  \n",
       "0                1      0    0  \n",
       "1                0      0    0  \n",
       "2                0      1    0  \n",
       "3                0      0    0  \n",
       "4                0      1    0  "
      ]
     },
     "execution_count": 86,
     "metadata": {},
     "output_type": "execute_result"
    }
   ],
   "source": [
    "data.head()"
   ]
  },
  {
   "cell_type": "code",
   "execution_count": 87,
   "id": "67636ade-fa17-42bf-aa37-eaef7e9ecba5",
   "metadata": {},
   "outputs": [
    {
     "data": {
      "text/plain": [
       "10"
      ]
     },
     "execution_count": 87,
     "metadata": {},
     "output_type": "execute_result"
    }
   ],
   "source": [
    "len(data)"
   ]
  },
  {
   "cell_type": "code",
   "execution_count": null,
   "id": "f280a733-72e0-4867-b6a0-a93356901687",
   "metadata": {},
   "outputs": [],
   "source": []
  }
 ],
 "metadata": {
  "kernelspec": {
   "display_name": "tsa",
   "language": "python",
   "name": "tsa"
  },
  "language_info": {
   "codemirror_mode": {
    "name": "ipython",
    "version": 3
   },
   "file_extension": ".py",
   "mimetype": "text/x-python",
   "name": "python",
   "nbconvert_exporter": "python",
   "pygments_lexer": "ipython3",
   "version": "3.11.9"
  }
 },
 "nbformat": 4,
 "nbformat_minor": 5
}
